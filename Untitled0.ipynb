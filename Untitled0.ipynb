{
  "nbformat": 4,
  "nbformat_minor": 0,
  "metadata": {
    "colab": {
      "provenance": [],
      "authorship_tag": "ABX9TyMDQjBr3nK+hn88MwsHGuhQ",
      "include_colab_link": true
    },
    "kernelspec": {
      "name": "python3",
      "display_name": "Python 3"
    },
    "language_info": {
      "name": "python"
    }
  },
  "cells": [
    {
      "cell_type": "markdown",
      "metadata": {
        "id": "view-in-github",
        "colab_type": "text"
      },
      "source": [
        "<a href=\"https://colab.research.google.com/github/Swarnalata143/PRINCY_143/blob/main/Untitled0.ipynb\" target=\"_parent\"><img src=\"https://colab.research.google.com/assets/colab-badge.svg\" alt=\"Open In Colab\"/></a>"
      ]
    },
    {
      "cell_type": "code",
      "execution_count": null,
      "metadata": {
        "colab": {
          "base_uri": "https://localhost:8080/"
        },
        "id": "797dYWD1DqQ1",
        "outputId": "afde930d-6223-46be-dbe0-2002d3ae391b"
      },
      "outputs": [
        {
          "output_type": "stream",
          "name": "stdout",
          "text": [
            "Enter the value:23\n",
            "The value in Fahrenheit 73.4\n",
            "Enter the value:23\n",
            "The value in celsius -5\n"
          ]
        }
      ],
      "source": [
        "celsius=float(input(\"Enter the value:\"))\n",
        "Fahrenheit= (celsius *1.8)+32\n",
        "print(\"The value in Fahrenheit\",Fahrenheit)\n",
        "Fahrenheit_f=float(input(\"Enter the value:\"))\n",
        "celsius_c=int((Fahrenheit_f-32)/1.8)\n",
        "print(\"The value in celsius\",celsius_c)"
      ]
    },
    {
      "cell_type": "code",
      "source": [],
      "metadata": {
        "id": "nFzwL1kKFgEz"
      },
      "execution_count": null,
      "outputs": []
    },
    {
      "cell_type": "code",
      "source": [
        "n=int(input('Enter the number\"'))\n",
        "rev=int(str(n)[::-1])\n",
        "print('the reverse number is =',rev)"
      ],
      "metadata": {
        "colab": {
          "base_uri": "https://localhost:8080/"
        },
        "id": "FDF3PW1DH7Ij",
        "outputId": "8cc00d2b-3d3e-4f0a-f9ba-0ea355f8d201"
      },
      "execution_count": null,
      "outputs": [
        {
          "output_type": "stream",
          "name": "stdout",
          "text": [
            "Enter the number\"143\n",
            "the reverse number is = 341\n"
          ]
        }
      ]
    },
    {
      "cell_type": "code",
      "source": [
        "a=int(input(\"ENTER a VALUE=\"))\n",
        "b=int(input(\"ENTER b VALUE=\"))\n",
        "def sum(a,b):\n",
        "      for i in range(1,b + 1):\n",
        "           a= a+1\n",
        "      return a\n",
        "print('SUM OF NUMBERS=',sum(a,b))"
      ],
      "metadata": {
        "colab": {
          "base_uri": "https://localhost:8080/"
        },
        "id": "9KDW9yJbHhSu",
        "outputId": "2842c156-3dbe-4d95-f0d0-6a92ee26b186"
      },
      "execution_count": null,
      "outputs": [
        {
          "output_type": "stream",
          "name": "stdout",
          "text": [
            "ENTER a VALUE=49\n",
            "ENTER b VALUE=48\n",
            "SUM OF NUMBERS= 97\n"
          ]
        }
      ]
    },
    {
      "cell_type": "markdown",
      "source": [
        "4.INPUT TWO NUMBER FIND REMAINDER WITHOUT'%'"
      ],
      "metadata": {
        "id": "lrx711DoKKYU"
      }
    },
    {
      "cell_type": "code",
      "source": [
        "a=int(input(\"ENTER a VALUE=\"))\n",
        "b=int(input(\"ENTER b \"))\n",
        "def rem(a,b)"
      ],
      "metadata": {
        "id": "fkU5e2NCLSJf"
      },
      "execution_count": null,
      "outputs": []
    },
    {
      "cell_type": "code",
      "source": [
        "#To CREATE A TABLE\n",
        "list=[1,2,3,4,5,6,7,8,9,10]\n",
        "n=5\n",
        "for i in list:\n",
        "       c=n*i\n",
        "       print(c)"
      ],
      "metadata": {
        "colab": {
          "base_uri": "https://localhost:8080/"
        },
        "id": "Z1jrnIphaZIk",
        "outputId": "4e74b85b-1128-4707-bb61-aa9627ddbb73"
      },
      "execution_count": 2,
      "outputs": [
        {
          "output_type": "stream",
          "name": "stdout",
          "text": [
            "5\n",
            "10\n",
            "15\n",
            "20\n",
            "25\n",
            "30\n",
            "35\n",
            "40\n",
            "45\n",
            "50\n"
          ]
        }
      ]
    },
    {
      "cell_type": "code",
      "source": [
        "##To CREATE A TABLE\n",
        "list=[1,2,3,4,5,6,7,8,9,10]\n",
        "n=int(input('Enter your choice'))\n",
        "for i in list:\n",
        "       c=n*i\n",
        "       print(c)"
      ],
      "metadata": {
        "colab": {
          "base_uri": "https://localhost:8080/"
        },
        "id": "QSwRUdXWcBrK",
        "outputId": "d5ebc148-36f7-4063-db77-790a91bf27c9"
      },
      "execution_count": 3,
      "outputs": [
        {
          "output_type": "stream",
          "name": "stdout",
          "text": [
            "Enter your choice3\n",
            "3\n",
            "6\n",
            "9\n",
            "12\n",
            "15\n",
            "18\n",
            "21\n",
            "24\n",
            "27\n",
            "30\n"
          ]
        }
      ]
    },
    {
      "cell_type": "code",
      "source": [
        "list=[10,30,23,43,65,12]\n",
        "sum=0\n",
        "for i in list:\n",
        "   sum=sum+i\n",
        "print(\"The sum is:\",sum)"
      ],
      "metadata": {
        "colab": {
          "base_uri": "https://localhost:8080/"
        },
        "id": "raIGM329dkHz",
        "outputId": "e9f70488-46ee-4fde-94bc-982918346eaf"
      },
      "execution_count": 6,
      "outputs": [
        {
          "output_type": "stream",
          "name": "stdout",
          "text": [
            "The sum is: 183\n"
          ]
        }
      ]
    },
    {
      "cell_type": "code",
      "source": [
        "#using range ()function in for loop\n",
        "for i in range(10):\n",
        "   print(i)"
      ],
      "metadata": {
        "colab": {
          "base_uri": "https://localhost:8080/"
        },
        "id": "zBexiMFIe1hn",
        "outputId": "78c5d360-d421-40ef-9e42-82faf952a648"
      },
      "execution_count": 7,
      "outputs": [
        {
          "output_type": "stream",
          "name": "stdout",
          "text": [
            "0\n",
            "1\n",
            "2\n",
            "3\n",
            "4\n",
            "5\n",
            "6\n",
            "7\n",
            "8\n",
            "9\n"
          ]
        }
      ]
    },
    {
      "cell_type": "code",
      "source": [
        "for i in range(10):\n",
        "  print(i,end='')"
      ],
      "metadata": {
        "colab": {
          "base_uri": "https://localhost:8080/"
        },
        "id": "s62ui_hnhOYR",
        "outputId": "40330185-dd82-4249-e60f-7ee85194945c"
      },
      "execution_count": 8,
      "outputs": [
        {
          "output_type": "stream",
          "name": "stdout",
          "text": [
            "0123456789"
          ]
        }
      ]
    },
    {
      "cell_type": "code",
      "source": [
        "n=int(input(\"Enter the number\"))\n",
        "for i in range(1,11):\n",
        "  c=n*i\n",
        "  print(n,\"*\",i,\"=\",c)"
      ],
      "metadata": {
        "colab": {
          "base_uri": "https://localhost:8080/"
        },
        "id": "YhZ-djkUiD_Q",
        "outputId": "41a26ea0-805a-4934-b5bb-f62c66445f27"
      },
      "execution_count": 10,
      "outputs": [
        {
          "output_type": "stream",
          "name": "stdout",
          "text": [
            "Enter the number10\n",
            "10 * 1 = 10\n",
            "10 * 2 = 20\n",
            "10 * 3 = 30\n",
            "10 * 4 = 40\n",
            "10 * 5 = 50\n",
            "10 * 6 = 60\n",
            "10 * 7 = 70\n",
            "10 * 8 = 80\n",
            "10 * 9 = 90\n",
            "10 * 10 = 100\n"
          ]
        }
      ]
    },
    {
      "cell_type": "code",
      "source": [
        "#program to print even number using step size in range()\n",
        "n=int(input(\"Enter the number\"))\n",
        "for i in range(2,n,2):\n",
        "  print(i)"
      ],
      "metadata": {
        "colab": {
          "base_uri": "https://localhost:8080/"
        },
        "id": "aCtsA4SbiztS",
        "outputId": "79a70fe2-dafd-411e-92b5-8c07302db972"
      },
      "execution_count": 11,
      "outputs": [
        {
          "output_type": "stream",
          "name": "stdout",
          "text": [
            "Enter the number20\n",
            "2\n",
            "4\n",
            "6\n",
            "8\n",
            "10\n",
            "12\n",
            "14\n",
            "16\n",
            "18\n"
          ]
        }
      ]
    },
    {
      "cell_type": "code",
      "source": [
        "#using len()function\n",
        "list=['swag','somu','salu','sagu','anki']\n",
        "for i in range(len(list)):\n",
        "  print(\"hello\",list[i])"
      ],
      "metadata": {
        "colab": {
          "base_uri": "https://localhost:8080/"
        },
        "id": "KX7aHxnpjTSp",
        "outputId": "3d7cac42-e47d-44c8-eb3c-573c02a6e02e"
      },
      "execution_count": 12,
      "outputs": [
        {
          "output_type": "stream",
          "name": "stdout",
          "text": [
            "hello swag\n",
            "hello somu\n",
            "hello salu\n",
            "hello sagu\n",
            "hello anki\n"
          ]
        }
      ]
    },
    {
      "cell_type": "code",
      "source": [
        "n=int(input(\"Enter the number\"))\n",
        "for i in range(2,n,2):\n",
        "   sum=sum+i\n",
        "print(\"The sum is:\",sum)"
      ],
      "metadata": {
        "colab": {
          "base_uri": "https://localhost:8080/"
        },
        "id": "i_8spGESkCPF",
        "outputId": "13a3e958-0a34-48ec-db06-0e9c0b8eb52c"
      },
      "execution_count": 16,
      "outputs": [
        {
          "output_type": "stream",
          "name": "stdout",
          "text": [
            "Enter the number6\n",
            "The sum is: 299\n"
          ]
        }
      ]
    },
    {
      "cell_type": "code",
      "source": [
        "#user input for number of rows\n",
        "rows=int(input(\"Enter the rows:\"))\n",
        "#Outer loop will print number of rows\n",
        "for i in range(0,rows+1):\n",
        "  for j in range(i):\n",
        "    print(\"*\",end=\"\")\n",
        "  print()"
      ],
      "metadata": {
        "id": "EkcSs3dJlxII",
        "outputId": "f79e3fe4-3070-48cc-8e1a-2e03b74e74fd",
        "colab": {
          "base_uri": "https://localhost:8080/"
        }
      },
      "execution_count": 31,
      "outputs": [
        {
          "output_type": "stream",
          "name": "stdout",
          "text": [
            "Enter the rows:5\n",
            "\n",
            "*\n",
            "**\n",
            "***\n",
            "****\n",
            "*****\n"
          ]
        }
      ]
    },
    {
      "cell_type": "code",
      "source": [
        "#Nested for loop\n",
        "for i in range(5):\n",
        "  for j in range(5):\n",
        "    print(i,end='')\n",
        "  print('')\n",
        "    \n",
        "    "
      ],
      "metadata": {
        "id": "U1rMu5T8nhIc",
        "outputId": "fb2f7cde-fbbb-4c1c-df40-d06815cf3da4",
        "colab": {
          "base_uri": "https://localhost:8080/"
        }
      },
      "execution_count": 32,
      "outputs": [
        {
          "output_type": "stream",
          "name": "stdout",
          "text": [
            "00000\n",
            "11111\n",
            "22222\n",
            "33333\n",
            "44444\n"
          ]
        }
      ]
    },
    {
      "cell_type": "code",
      "source": [
        "rows=int(input(\"Enter the rows:\"))\n",
        "for i in range(0,rows+1):\n",
        "  for j in range(i):\n",
        "    print(\"*\",end=\"\")\n",
        "  print()"
      ],
      "metadata": {
        "id": "ZEvu7KxQqxJc",
        "outputId": "7a59c092-955c-4a31-a34b-343dd90ebcbb",
        "colab": {
          "base_uri": "https://localhost:8080/"
        }
      },
      "execution_count": 33,
      "outputs": [
        {
          "output_type": "stream",
          "name": "stdout",
          "text": [
            "Enter the rows:5\n",
            "\n",
            "*\n",
            "**\n",
            "***\n",
            "****\n",
            "*****\n"
          ]
        }
      ]
    },
    {
      "cell_type": "code",
      "source": [
        "#using while loop\n",
        "s=0\n",
        "i=1\n",
        "while i<=10:\n",
        "  s=s+i\n",
        "  i=i+1\n",
        "print('SUM from 1 to 10=',s)"
      ],
      "metadata": {
        "id": "PAOtOLFPrGOI",
        "outputId": "2d2f8ee0-1a7f-45dd-98ac-7c868e346d7b",
        "colab": {
          "base_uri": "https://localhost:8080/"
        }
      },
      "execution_count": 37,
      "outputs": [
        {
          "output_type": "stream",
          "name": "stdout",
          "text": [
            "SUM from 1 to 10= 55\n"
          ]
        }
      ]
    }
  ]
}