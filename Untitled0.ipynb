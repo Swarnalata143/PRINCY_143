{
  "nbformat": 4,
  "nbformat_minor": 0,
  "metadata": {
    "colab": {
      "provenance": [],
      "authorship_tag": "ABX9TyPrH/Ydma/6eRCnsVlGxQHq",
      "include_colab_link": true
    },
    "kernelspec": {
      "name": "python3",
      "display_name": "Python 3"
    },
    "language_info": {
      "name": "python"
    }
  },
  "cells": [
    {
      "cell_type": "markdown",
      "metadata": {
        "id": "view-in-github",
        "colab_type": "text"
      },
      "source": [
        "<a href=\"https://colab.research.google.com/github/Swarnalata143/PRINCY_143/blob/main/Untitled0.ipynb\" target=\"_parent\"><img src=\"https://colab.research.google.com/assets/colab-badge.svg\" alt=\"Open In Colab\"/></a>"
      ]
    },
    {
      "cell_type": "code",
      "execution_count": null,
      "metadata": {
        "colab": {
          "base_uri": "https://localhost:8080/"
        },
        "id": "797dYWD1DqQ1",
        "outputId": "afde930d-6223-46be-dbe0-2002d3ae391b"
      },
      "outputs": [
        {
          "output_type": "stream",
          "name": "stdout",
          "text": [
            "Enter the value:23\n",
            "The value in Fahrenheit 73.4\n",
            "Enter the value:23\n",
            "The value in celsius -5\n"
          ]
        }
      ],
      "source": [
        "celsius=float(input(\"Enter the value:\"))\n",
        "Fahrenheit= (celsius *1.8)+32\n",
        "print(\"The value in Fahrenheit\",Fahrenheit)\n",
        "Fahrenheit_f=float(input(\"Enter the value:\"))\n",
        "celsius_c=int((Fahrenheit_f-32)/1.8)\n",
        "print(\"The value in celsius\",celsius_c)"
      ]
    },
    {
      "cell_type": "code",
      "source": [],
      "metadata": {
        "id": "nFzwL1kKFgEz"
      },
      "execution_count": null,
      "outputs": []
    },
    {
      "cell_type": "code",
      "source": [
        "n=int(input('Enter the number\"'))\n",
        "rev=int(str(n)[::-1])\n",
        "print('the reverse number is =',rev)"
      ],
      "metadata": {
        "colab": {
          "base_uri": "https://localhost:8080/"
        },
        "id": "FDF3PW1DH7Ij",
        "outputId": "8cc00d2b-3d3e-4f0a-f9ba-0ea355f8d201"
      },
      "execution_count": 4,
      "outputs": [
        {
          "output_type": "stream",
          "name": "stdout",
          "text": [
            "Enter the number\"143\n",
            "the reverse number is = 341\n"
          ]
        }
      ]
    },
    {
      "cell_type": "code",
      "source": [
        "a=int(input(\"ENTER a VALUE=\"))\n",
        "b=int(input(\"ENTER b VALUE=\"))\n",
        "def sum(a,b):\n",
        "      for i in range(1,b + 1):\n",
        "           a= a+1\n",
        "      return a\n",
        "print('SUM OF NUMBERS=',sum(a,b))"
      ],
      "metadata": {
        "colab": {
          "base_uri": "https://localhost:8080/"
        },
        "id": "9KDW9yJbHhSu",
        "outputId": "2842c156-3dbe-4d95-f0d0-6a92ee26b186"
      },
      "execution_count": 5,
      "outputs": [
        {
          "output_type": "stream",
          "name": "stdout",
          "text": [
            "ENTER a VALUE=49\n",
            "ENTER b VALUE=48\n",
            "SUM OF NUMBERS= 97\n"
          ]
        }
      ]
    }
  ]
}