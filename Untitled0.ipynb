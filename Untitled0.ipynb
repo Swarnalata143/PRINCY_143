{
  "cells": [
    {
      "cell_type": "markdown",
      "metadata": {
        "id": "view-in-github",
        "colab_type": "text"
      },
      "source": [
        "<a href=\"https://colab.research.google.com/github/Swarnalata143/PRINCY_143/blob/main/Untitled0.ipynb\" target=\"_parent\"><img src=\"https://colab.research.google.com/assets/colab-badge.svg\" alt=\"Open In Colab\"/></a>"
      ]
    },
    {
      "cell_type": "code",
      "execution_count": null,
      "metadata": {
        "colab": {
          "base_uri": "https://localhost:8080/"
        },
        "id": "797dYWD1DqQ1",
        "outputId": "afde930d-6223-46be-dbe0-2002d3ae391b"
      },
      "outputs": [
        {
          "name": "stdout",
          "output_type": "stream",
          "text": [
            "Enter the value:23\n",
            "The value in Fahrenheit 73.4\n",
            "Enter the value:23\n",
            "The value in celsius -5\n"
          ]
        }
      ],
      "source": [
        "celsius=float(input(\"Enter the value:\"))\n",
        "Fahrenheit= (celsius *1.8)+32\n",
        "print(\"The value in Fahrenheit\",Fahrenheit)\n",
        "Fahrenheit_f=float(input(\"Enter the value:\"))\n",
        "celsius_c=int((Fahrenheit_f-32)/1.8)\n",
        "print(\"The value in celsius\",celsius_c)"
      ]
    },
    {
      "cell_type": "code",
      "execution_count": null,
      "metadata": {
        "id": "nFzwL1kKFgEz"
      },
      "outputs": [],
      "source": []
    },
    {
      "cell_type": "code",
      "execution_count": null,
      "metadata": {
        "colab": {
          "base_uri": "https://localhost:8080/"
        },
        "id": "FDF3PW1DH7Ij",
        "outputId": "8cc00d2b-3d3e-4f0a-f9ba-0ea355f8d201"
      },
      "outputs": [
        {
          "name": "stdout",
          "output_type": "stream",
          "text": [
            "Enter the number\"143\n",
            "the reverse number is = 341\n"
          ]
        }
      ],
      "source": [
        "n=int(input('Enter the number\"'))\n",
        "rev=int(str(n)[::-1])\n",
        "print('the reverse number is =',rev)"
      ]
    },
    {
      "cell_type": "code",
      "execution_count": null,
      "metadata": {
        "colab": {
          "base_uri": "https://localhost:8080/"
        },
        "id": "9KDW9yJbHhSu",
        "outputId": "2842c156-3dbe-4d95-f0d0-6a92ee26b186"
      },
      "outputs": [
        {
          "name": "stdout",
          "output_type": "stream",
          "text": [
            "ENTER a VALUE=49\n",
            "ENTER b VALUE=48\n",
            "SUM OF NUMBERS= 97\n"
          ]
        }
      ],
      "source": [
        "a=int(input(\"ENTER a VALUE=\"))\n",
        "b=int(input(\"ENTER b VALUE=\"))\n",
        "def sum(a,b):\n",
        "      for i in range(1,b + 1):\n",
        "           a= a+1\n",
        "      return a\n",
        "print('SUM OF NUMBERS=',sum(a,b))"
      ]
    },
    {
      "cell_type": "markdown",
      "metadata": {
        "id": "lrx711DoKKYU"
      },
      "source": [
        "4.INPUT TWO NUMBER FIND REMAINDER WITHOUT'%'"
      ]
    },
    {
      "cell_type": "code",
      "execution_count": null,
      "metadata": {
        "id": "fkU5e2NCLSJf"
      },
      "outputs": [],
      "source": [
        "a=int(input(\"ENTER a VALUE=\"))\n",
        "b=int(input(\"ENTER b \"))\n",
        "def rem(a,b)"
      ]
    },
    {
      "cell_type": "code",
      "execution_count": null,
      "metadata": {
        "colab": {
          "base_uri": "https://localhost:8080/"
        },
        "id": "Z1jrnIphaZIk",
        "outputId": "4e74b85b-1128-4707-bb61-aa9627ddbb73"
      },
      "outputs": [
        {
          "name": "stdout",
          "output_type": "stream",
          "text": [
            "5\n",
            "10\n",
            "15\n",
            "20\n",
            "25\n",
            "30\n",
            "35\n",
            "40\n",
            "45\n",
            "50\n"
          ]
        }
      ],
      "source": [
        "#To CREATE A TABLE\n",
        "list=[1,2,3,4,5,6,7,8,9,10]\n",
        "n=5\n",
        "for i in list:\n",
        "       c=n*i\n",
        "       print(c)"
      ]
    },
    {
      "cell_type": "code",
      "execution_count": null,
      "metadata": {
        "colab": {
          "base_uri": "https://localhost:8080/"
        },
        "id": "QSwRUdXWcBrK",
        "outputId": "d5ebc148-36f7-4063-db77-790a91bf27c9"
      },
      "outputs": [
        {
          "name": "stdout",
          "output_type": "stream",
          "text": [
            "Enter your choice3\n",
            "3\n",
            "6\n",
            "9\n",
            "12\n",
            "15\n",
            "18\n",
            "21\n",
            "24\n",
            "27\n",
            "30\n"
          ]
        }
      ],
      "source": [
        "##To CREATE A TABLE\n",
        "list=[1,2,3,4,5,6,7,8,9,10]\n",
        "n=int(input('Enter your choice'))\n",
        "for i in list:\n",
        "       c=n*i\n",
        "       print(c)"
      ]
    },
    {
      "cell_type": "code",
      "execution_count": null,
      "metadata": {
        "colab": {
          "base_uri": "https://localhost:8080/"
        },
        "id": "raIGM329dkHz",
        "outputId": "e9f70488-46ee-4fde-94bc-982918346eaf"
      },
      "outputs": [
        {
          "name": "stdout",
          "output_type": "stream",
          "text": [
            "The sum is: 183\n"
          ]
        }
      ],
      "source": [
        "list=[10,30,23,43,65,12]\n",
        "sum=0\n",
        "for i in list:\n",
        "   sum=sum+i\n",
        "print(\"The sum is:\",sum)"
      ]
    },
    {
      "cell_type": "code",
      "execution_count": null,
      "metadata": {
        "colab": {
          "base_uri": "https://localhost:8080/"
        },
        "id": "zBexiMFIe1hn",
        "outputId": "78c5d360-d421-40ef-9e42-82faf952a648"
      },
      "outputs": [
        {
          "name": "stdout",
          "output_type": "stream",
          "text": [
            "0\n",
            "1\n",
            "2\n",
            "3\n",
            "4\n",
            "5\n",
            "6\n",
            "7\n",
            "8\n",
            "9\n"
          ]
        }
      ],
      "source": [
        "#using range ()function in for loop\n",
        "for i in range(10):\n",
        "   print(i)"
      ]
    },
    {
      "cell_type": "code",
      "execution_count": null,
      "metadata": {
        "colab": {
          "base_uri": "https://localhost:8080/"
        },
        "id": "s62ui_hnhOYR",
        "outputId": "40330185-dd82-4249-e60f-7ee85194945c"
      },
      "outputs": [
        {
          "name": "stdout",
          "output_type": "stream",
          "text": [
            "0123456789"
          ]
        }
      ],
      "source": [
        "for i in range(10):\n",
        "  print(i,end='')"
      ]
    },
    {
      "cell_type": "code",
      "execution_count": null,
      "metadata": {
        "colab": {
          "base_uri": "https://localhost:8080/"
        },
        "id": "YhZ-djkUiD_Q",
        "outputId": "41a26ea0-805a-4934-b5bb-f62c66445f27"
      },
      "outputs": [
        {
          "name": "stdout",
          "output_type": "stream",
          "text": [
            "Enter the number10\n",
            "10 * 1 = 10\n",
            "10 * 2 = 20\n",
            "10 * 3 = 30\n",
            "10 * 4 = 40\n",
            "10 * 5 = 50\n",
            "10 * 6 = 60\n",
            "10 * 7 = 70\n",
            "10 * 8 = 80\n",
            "10 * 9 = 90\n",
            "10 * 10 = 100\n"
          ]
        }
      ],
      "source": [
        "n=int(input(\"Enter the number\"))\n",
        "for i in range(1,11):\n",
        "  c=n*i\n",
        "  print(n,\"*\",i,\"=\",c)"
      ]
    },
    {
      "cell_type": "code",
      "execution_count": null,
      "metadata": {
        "colab": {
          "base_uri": "https://localhost:8080/"
        },
        "id": "aCtsA4SbiztS",
        "outputId": "79a70fe2-dafd-411e-92b5-8c07302db972"
      },
      "outputs": [
        {
          "name": "stdout",
          "output_type": "stream",
          "text": [
            "Enter the number20\n",
            "2\n",
            "4\n",
            "6\n",
            "8\n",
            "10\n",
            "12\n",
            "14\n",
            "16\n",
            "18\n"
          ]
        }
      ],
      "source": [
        "#program to print even number using step size in range()\n",
        "n=int(input(\"Enter the number\"))\n",
        "for i in range(2,n,2):\n",
        "  print(i)"
      ]
    },
    {
      "cell_type": "code",
      "execution_count": null,
      "metadata": {
        "colab": {
          "base_uri": "https://localhost:8080/"
        },
        "id": "KX7aHxnpjTSp",
        "outputId": "3d7cac42-e47d-44c8-eb3c-573c02a6e02e"
      },
      "outputs": [
        {
          "name": "stdout",
          "output_type": "stream",
          "text": [
            "hello swag\n",
            "hello somu\n",
            "hello salu\n",
            "hello sagu\n",
            "hello anki\n"
          ]
        }
      ],
      "source": [
        "list=['swag','somu','salu','sagu','anki']\n",
        "for i in range(len(list)):\n",
        "  print(\"hello\",list[i])"
      ]
    },
    {
      "cell_type": "code",
      "execution_count": null,
      "metadata": {
        "id": "i_8spGESkCPF"
      },
      "outputs": [],
      "source": [
        "n=int(input(\"Enter the number\"))\n",
        "for i in range(2,n,2):\n",
        "   sum=sum+i\n",
        "print(\"The sum is:\",sum)"
      ]
    },
    {
      "cell_type": "code",
      "source": [
        "for var in\"ABIT\":\n",
        "   if var==\"B\":\n",
        "    continue\n",
        "   print(var)"
      ],
      "metadata": {
        "colab": {
          "base_uri": "https://localhost:8080/"
        },
        "id": "ZZ5QNSe6oEIs",
        "outputId": "27d10a9e-dd8e-4698-867b-84d724a2396b"
      },
      "execution_count": null,
      "outputs": [
        {
          "output_type": "stream",
          "name": "stdout",
          "text": [
            "A\n",
            "I\n",
            "T\n"
          ]
        }
      ]
    },
    {
      "cell_type": "code",
      "source": [
        "for i in range(10):\n",
        "  print(i)\n",
        "  if i ==2:\n",
        "     break"
      ],
      "metadata": {
        "colab": {
          "base_uri": "https://localhost:8080/"
        },
        "id": "X7XXV-DHn_OU",
        "outputId": "48d09b55-ad2b-4758-ecbd-cc1b6da292fb"
      },
      "execution_count": null,
      "outputs": [
        {
          "output_type": "stream",
          "name": "stdout",
          "text": [
            "0\n",
            "1\n",
            "2\n"
          ]
        }
      ]
    },
    {
      "cell_type": "code",
      "source": [
        "for i in range(10):\n",
        "  if i ==5:\n",
        "   continue\n",
        "  print(i)"
      ],
      "metadata": {
        "colab": {
          "base_uri": "https://localhost:8080/"
        },
        "id": "zFdwzR3Lqxax",
        "outputId": "535c5e98-fa2a-4733-a282-5b7535ba5bae"
      },
      "execution_count": null,
      "outputs": [
        {
          "output_type": "stream",
          "name": "stdout",
          "text": [
            "0\n",
            "1\n",
            "2\n",
            "3\n",
            "4\n",
            "6\n",
            "7\n",
            "8\n",
            "9\n"
          ]
        }
      ]
    },
    {
      "cell_type": "code",
      "source": [
        "li=['a','b','c','d']\n",
        "for i in li:\n",
        "  if(i=='a'):\n",
        "      pass\n",
        "  else:\n",
        "        print(i)"
      ],
      "metadata": {
        "colab": {
          "base_uri": "https://localhost:8080/"
        },
        "id": "HhiQbe_PrVGl",
        "outputId": "01932642-3b88-4de9-9fb5-3e229340fb52"
      },
      "execution_count": null,
      "outputs": [
        {
          "output_type": "stream",
          "name": "stdout",
          "text": [
            "b\n",
            "c\n",
            "d\n"
          ]
        }
      ]
    },
    {
      "cell_type": "code",
      "source": [
        "swar=['s','w','a','r']\n",
        "for i in swar:\n",
        "     if(i=='s'):\n",
        "       pass\n",
        "  else:\n",
        "       print(i)"
      ],
      "metadata": {
        "id": "E1cBEF4VsYX4"
      },
      "execution_count": null,
      "outputs": []
    },
    {
      "cell_type": "code",
      "source": [
        "n=  int(input('enter the number of even numbers required:'))\n",
        "for i in range(0,n+1,2):\n",
        "  if(i<=10):\n",
        "    pass\n",
        "  else:\n",
        "    print(i)\n"
      ],
      "metadata": {
        "colab": {
          "base_uri": "https://localhost:8080/"
        },
        "id": "-nmK63E4tfqj",
        "outputId": "30a7363a-ddad-476c-c66b-c082931245da"
      },
      "execution_count": null,
      "outputs": [
        {
          "output_type": "stream",
          "name": "stdout",
          "text": [
            "enter the number of even numbers required:30\n",
            "12\n",
            "14\n",
            "16\n",
            "18\n",
            "20\n",
            "22\n",
            "24\n",
            "26\n",
            "28\n",
            "30\n"
          ]
        }
      ]
    },
    {
      "cell_type": "code",
      "source": [
        "def SHOWO():\n",
        " print(\"HELLO SWARNA\")\n",
        "SHOWO()"
      ],
      "metadata": {
        "colab": {
          "base_uri": "https://localhost:8080/"
        },
        "id": "NhySIRhlxpF3",
        "outputId": "2dd8a14a-6ae9-47b3-88ac-6e8632fa7dc6"
      },
      "execution_count": null,
      "outputs": [
        {
          "output_type": "stream",
          "name": "stdout",
          "text": [
            "HELLO SWARNA\n"
          ]
        }
      ]
    },
    {
      "cell_type": "code",
      "source": [
        "def sum(a,b):\n",
        "  print('a+b=',(a+b))\n",
        "sum(22,55)"
      ],
      "metadata": {
        "colab": {
          "base_uri": "https://localhost:8080/"
        },
        "id": "b07eHY5Yy8PC",
        "outputId": "a39574a9-c593-422c-867f-faea712cebda"
      },
      "execution_count": null,
      "outputs": [
        {
          "output_type": "stream",
          "name": "stdout",
          "text": [
            "a+b= 77\n"
          ]
        }
      ]
    },
    {
      "cell_type": "code",
      "source": [
        "def sum(a,b):\n",
        "  print('a+b=',(a+b))\n",
        "a=int(input('enter the value of a='))\n",
        "b=int(input('enter the value of b='))\n",
        "sum(a,b)"
      ],
      "metadata": {
        "colab": {
          "base_uri": "https://localhost:8080/"
        },
        "id": "mcrGugYxze1q",
        "outputId": "f7b69568-8753-418f-a739-313c826db16d"
      },
      "execution_count": null,
      "outputs": [
        {
          "output_type": "stream",
          "name": "stdout",
          "text": [
            "enter the value of a=3\n",
            "enter the value of b=9\n",
            "a+b= 12\n"
          ]
        }
      ]
    },
    {
      "cell_type": "code",
      "source": [
        "n=int(input('enter the number'))\n",
        "def rev(n):\n",
        "  rev=0\n",
        "  while(n>0):\n",
        "     rev=int(n)\n",
        "     rev=rev*10+rem\n",
        "     n=int(n/10)\n",
        "     print(rev)\n",
        "     rev(n)"
      ],
      "metadata": {
        "id": "4N2zfR5J0qkh"
      },
      "execution_count": null,
      "outputs": []
    },
    {
      "cell_type": "code",
      "source": [
        "def adding(x,y):\n",
        "  i=x+y\n",
        "  return i\n",
        "\n",
        "result=adding(16,25)\n",
        "print(result)"
      ],
      "metadata": {
        "colab": {
          "base_uri": "https://localhost:8080/"
        },
        "id": "T-h445N0oJJT",
        "outputId": "60132246-8fad-46b5-e568-acbae03b4ae4"
      },
      "execution_count": null,
      "outputs": [
        {
          "output_type": "stream",
          "name": "stdout",
          "text": [
            "41\n"
          ]
        }
      ]
    },
    {
      "cell_type": "code",
      "source": [
        "def show(rows):\n",
        "  for i in range(0,rows+1):\n",
        "    for j in range(i):\n",
        "      print(i,end = '')\n",
        "    print()\n",
        "\n",
        "rows = int(input(\"enter the rows\"))\n",
        "show(rows)  "
      ],
      "metadata": {
        "colab": {
          "base_uri": "https://localhost:8080/"
        },
        "id": "rxDu52uspdg5",
        "outputId": "a505bfb7-abd6-442a-a6ad-f61c2fec57c0"
      },
      "execution_count": null,
      "outputs": [
        {
          "output_type": "stream",
          "name": "stdout",
          "text": [
            "enter the rows4\n",
            "\n",
            "1\n",
            "22\n",
            "333\n",
            "4444\n"
          ]
        }
      ]
    },
    {
      "cell_type": "code",
      "source": [
        "def show(rows):\n",
        "  for i in range(5,0,-1):\n",
        "    for j in range(0,i):\n",
        "       print(i,end='')\n",
        "    print()\n",
        "\n",
        "rows = int(input(\"enter the rows\"))\n",
        "show(rows)      "
      ],
      "metadata": {
        "colab": {
          "base_uri": "https://localhost:8080/"
        },
        "id": "buA2aV1OrpQ8",
        "outputId": "34c08bb3-d647-4f0f-f271-c0353b385235"
      },
      "execution_count": null,
      "outputs": [
        {
          "output_type": "stream",
          "name": "stdout",
          "text": [
            "enter the rows4\n",
            "55555\n",
            "4444\n",
            "333\n",
            "22\n",
            "1\n"
          ]
        }
      ]
    },
    {
      "cell_type": "code",
      "source": [
        "def greet():\n",
        "  message = 'HELLO'\n",
        "  print('local',message)\n",
        "  \n",
        "greet()\n",
        "message = 'ABIT CSE'\n",
        "print(message)"
      ],
      "metadata": {
        "colab": {
          "base_uri": "https://localhost:8080/"
        },
        "id": "fWXsGLies8FC",
        "outputId": "24fb452a-f596-4fe0-dc86-e3a84654e3ec"
      },
      "execution_count": null,
      "outputs": [
        {
          "output_type": "stream",
          "name": "stdout",
          "text": [
            "local HELLO\n",
            "ABIT CSE\n"
          ]
        }
      ]
    },
    {
      "cell_type": "code",
      "source": [
        "def lambda_handler(event,context):\n",
        " print('HELLO WORLD')"
      ],
      "metadata": {
        "id": "pPlnH40euzOn"
      },
      "execution_count": null,
      "outputs": []
    },
    {
      "cell_type": "code",
      "source": [
        "add = lambda num: num + 4\n",
        "print( add(6))"
      ],
      "metadata": {
        "colab": {
          "base_uri": "https://localhost:8080/"
        },
        "id": "YnuF_aZOwV6G",
        "outputId": "5b891f52-5627-4325-baf6-e420a3a6fdc5"
      },
      "execution_count": null,
      "outputs": [
        {
          "output_type": "stream",
          "name": "stdout",
          "text": [
            "10\n"
          ]
        }
      ]
    },
    {
      "cell_type": "code",
      "source": [
        "a=lambda x , y:x+y\n",
        "print(a(1, 2))"
      ],
      "metadata": {
        "colab": {
          "base_uri": "https://localhost:8080/"
        },
        "id": "U8x9cVs8wewm",
        "outputId": "8ca63735-82b8-4313-e460-47cf9ecf06d5"
      },
      "execution_count": null,
      "outputs": [
        {
          "output_type": "stream",
          "name": "stdout",
          "text": [
            "3\n"
          ]
        }
      ]
    },
    {
      "cell_type": "code",
      "source": [
        "a=lambda x, y, z:x+y+z\n",
        "print(a(1,2,3))"
      ],
      "metadata": {
        "colab": {
          "base_uri": "https://localhost:8080/"
        },
        "id": "JnuwEO3sxCFI",
        "outputId": "3fc3fda8-c403-42bf-bb3f-8210cb71df50"
      },
      "execution_count": null,
      "outputs": [
        {
          "output_type": "stream",
          "name": "stdout",
          "text": [
            "6\n"
          ]
        }
      ]
    },
    {
      "cell_type": "code",
      "source": [
        "def factorial(x):\n",
        " if x == 1:\n",
        "  return 1\n",
        " else:\n",
        "  return (x * factorial(x-1))\n",
        "num = int(input('num=?'))\n",
        "print(\"The factorial of\", num, \"is\", factorial(num))"
      ],
      "metadata": {
        "colab": {
          "base_uri": "https://localhost:8080/"
        },
        "id": "bPVfhMPhx3RW",
        "outputId": "1ef9bc04-9d12-4726-e43a-bbd65b6f58eb"
      },
      "execution_count": null,
      "outputs": [
        {
          "output_type": "stream",
          "name": "stdout",
          "text": [
            "num=?6\n",
            "The factorial of 6 is 720\n"
          ]
        }
      ]
    },
    {
      "cell_type": "code",
      "source": [
        "nterms = int(input(\"How many terms? \"))\n",
        "n1, n2 = 0, 1\n",
        "count = 0\n",
        "if nterms <= 0:\n",
        "   print(\"Please enter a positive integer\")\n",
        "elif nterms == 1:\n",
        "   print(\"Fibonacci sequence upto\",nterms,\":\")\n",
        "   print(n1)\n",
        "else:\n",
        "   print(\"Fibonacci sequence:\")\n",
        "   while count < nterms:\n",
        "       print(n1)\n",
        "       nth = n1 + n2\n",
        "       n1 = n2\n",
        "       n2 = nth\n",
        "       count += 1"
      ],
      "metadata": {
        "colab": {
          "base_uri": "https://localhost:8080/"
        },
        "id": "b1mKHXAO1Zx-",
        "outputId": "a4641db2-3196-422f-f9be-2a4fe38bf806"
      },
      "execution_count": null,
      "outputs": [
        {
          "output_type": "stream",
          "name": "stdout",
          "text": [
            "How many terms? 7\n",
            "Fibonacci sequence:\n",
            "0\n",
            "1\n",
            "1\n",
            "2\n",
            "3\n",
            "5\n",
            "8\n"
          ]
        }
      ]
    },
    {
      "cell_type": "code",
      "source": [
        "import math as swarna\n",
        "pie = swarna.pi\n",
        "print(\"The value of pi is : \",pie)"
      ],
      "metadata": {
        "colab": {
          "base_uri": "https://localhost:8080/"
        },
        "id": "BlRwPLy72lzQ",
        "outputId": "8edd54b5-e452-48dc-cd2b-f8ed789fa8be"
      },
      "execution_count": null,
      "outputs": [
        {
          "output_type": "stream",
          "name": "stdout",
          "text": [
            "The value of pi is :  3.141592653589793\n"
          ]
        }
      ]
    },
    {
      "cell_type": "code",
      "source": [
        "import random\n",
        "for i in range(10):\n",
        "  print(random.randint(1, 25))"
      ],
      "metadata": {
        "colab": {
          "base_uri": "https://localhost:8080/"
        },
        "id": "y5eGQG4020XC",
        "outputId": "6f80b7ee-936d-496f-bbe3-d7aaecd5bc85"
      },
      "execution_count": null,
      "outputs": [
        {
          "output_type": "stream",
          "name": "stdout",
          "text": [
            "5\n",
            "10\n",
            "24\n",
            "9\n",
            "20\n",
            "25\n",
            "9\n",
            "20\n",
            "19\n",
            "5\n"
          ]
        }
      ]
    },
    {
      "cell_type": "code",
      "source": [
        "import random\n",
        "import math\n",
        "for i in range(5):\n",
        " print(random.randint(1, 25))\n",
        "print(math.pi)"
      ],
      "metadata": {
        "colab": {
          "base_uri": "https://localhost:8080/"
        },
        "id": "lAn4wQj93YZn",
        "outputId": "6a752365-e0ee-4fd8-d45f-d127ba55e98d"
      },
      "execution_count": null,
      "outputs": [
        {
          "output_type": "stream",
          "name": "stdout",
          "text": [
            "11\n",
            "13\n",
            "25\n",
            "5\n",
            "23\n",
            "3.141592653589793\n"
          ]
        }
      ]
    },
    {
      "cell_type": "code",
      "source": [
        "class myclass:\n",
        "  \"this is my first class\"\n",
        "  a=100\n",
        "  def fun():\n",
        "      print(\"HELLO\")\n",
        "print(myclass.__doc__)\n",
        "print(myclass.a)\n",
        "myclass.fun()"
      ],
      "metadata": {
        "colab": {
          "base_uri": "https://localhost:8080/"
        },
        "id": "tgEMBtq94SUv",
        "outputId": "ef2b0041-0292-4121-9418-e1e4e8076247"
      },
      "execution_count": null,
      "outputs": [
        {
          "output_type": "stream",
          "name": "stdout",
          "text": [
            "this is my first class\n",
            "100\n",
            "HELLO\n"
          ]
        }
      ]
    },
    {
      "cell_type": "code",
      "source": [
        "class myclass:\n",
        "  \"this is my first class\"\n",
        "  a=100\n",
        "  def fun(self):\n",
        "    print(\"hello\")\n",
        "obj = myclass()\n",
        "\n",
        "print(obj.a)\n",
        "obj.fun()"
      ],
      "metadata": {
        "colab": {
          "base_uri": "https://localhost:8080/"
        },
        "id": "FsnpI8EmJ6Q0",
        "outputId": "ef60dec5-db5f-410f-fd56-f37e3cb84077"
      },
      "execution_count": null,
      "outputs": [
        {
          "output_type": "stream",
          "name": "stdout",
          "text": [
            "100\n",
            "hello\n"
          ]
        }
      ]
    },
    {
      "cell_type": "code",
      "source": [
        "class myclass:\n",
        "  def __init__ (self,name):\n",
        "    print(\"hello\",name)\n",
        "obj = myclass(\"swarna\")\n"
      ],
      "metadata": {
        "colab": {
          "base_uri": "https://localhost:8080/"
        },
        "id": "yAtbjJrHKjau",
        "outputId": "883f1494-3295-457c-ec1a-0abf168a79fd"
      },
      "execution_count": null,
      "outputs": [
        {
          "output_type": "stream",
          "name": "stdout",
          "text": [
            "hello swarna\n"
          ]
        }
      ]
    },
    {
      "cell_type": "code",
      "source": [
        "class a:\n",
        "    def _init_(self,n):\n",
        "        for i in range(n+1):\n",
        "            for j in range(i):\n",
        "                print(i,end=' ')\n",
        "            print()\n",
        "n=int(input(\"Enter the no. of rows..\"))\n",
        "obj=a(n)"
      ],
      "metadata": {
        "id": "dlOYgo0QMdR6"
      },
      "execution_count": null,
      "outputs": []
    },
    {
      "cell_type": "code",
      "source": [
        "class person:\n",
        "  def __init__(self):\n",
        "    print(\"bye....\")\n",
        "  def mymethod(self,num):\n",
        "    print(\"the cube of number is: \",num**3)\n",
        "obj_person=person()\n",
        "obj_person.mymethod(4)"
      ],
      "metadata": {
        "colab": {
          "base_uri": "https://localhost:8080/"
        },
        "id": "Fx_CvjbZN8Lt",
        "outputId": "7093dc76-7557-4b09-d280-86acd5216214"
      },
      "execution_count": null,
      "outputs": [
        {
          "output_type": "stream",
          "name": "stdout",
          "text": [
            "bye....\n",
            "the cube of number is:  64\n"
          ]
        }
      ]
    },
    {
      "cell_type": "code",
      "source": [
        "class Animal:\n",
        "  def speak(self):\n",
        "    print(\"Animal Speaking\")\n",
        "class Dog(Animal):\n",
        "  def bark(self):\n",
        "    print(\"dog barking\")\n",
        "d=Dog()\n",
        "d.bark()\n",
        "d.speak()"
      ],
      "metadata": {
        "colab": {
          "base_uri": "https://localhost:8080/"
        },
        "id": "0yYajSsAQIZf",
        "outputId": "fab7648c-8827-4096-dae9-b52a5cec08bc"
      },
      "execution_count": null,
      "outputs": [
        {
          "output_type": "stream",
          "name": "stdout",
          "text": [
            "dog barking\n",
            "Animal Speaking\n"
          ]
        }
      ]
    },
    {
      "cell_type": "code",
      "source": [
        "#write a python program the base class contains addition of 2 nos but the derived class contains mul of same nos\n",
        "class a():\n",
        "  def sum(self,a,b):\n",
        "    return a+b\n",
        "class b(a):\n",
        "  def mul(self,a,b):\n",
        "    return a*b\n",
        "d=b()\n",
        "a=int(input(\"Enter 1st number..\"))\n",
        "b=int(input(\"Enter 2nd number..\"))\n",
        "print(d.sum(a,b))\n",
        "print(d.mul(a,b))"
      ],
      "metadata": {
        "id": "IyxD86h9Qit3",
        "colab": {
          "base_uri": "https://localhost:8080/"
        },
        "outputId": "93c8eec7-8233-45d7-aecf-c322750a32b2"
      },
      "execution_count": null,
      "outputs": [
        {
          "output_type": "stream",
          "name": "stdout",
          "text": [
            "Enter 1st number..2\n",
            "Enter 2nd number..3\n",
            "5\n",
            "6\n"
          ]
        }
      ]
    },
    {
      "cell_type": "code",
      "source": [
        "#WAP usig multi level inheritance to devlope a calculator which content four derive of derive class and only one child class\n",
        "class A():\n",
        " def sum(self,a,b):\n",
        "  return a+b\n",
        "class B(A):\n",
        " def sub(self,a,b):\n",
        "  return a-b\n",
        "class C(B):\n",
        " def mul(self,a,b):\n",
        "  return a*b\n",
        "class D(C):\n",
        " def div(self,a,b):\n",
        "  return a/b\n",
        "class E(D):\n",
        " def rem(self,a,b):\n",
        "  return a%b\n",
        "d=E()\n",
        "a=int(input('INPUT a='))\n",
        "b=int(input('INPUT b='))\n",
        "print(d.sum(a,b))\n",
        "print(d.sub(a,b))\n",
        "print(d.mul(a,b))\n",
        "print(d.div(a,b))\n",
        "print(d.rem(a,b))"
      ],
      "metadata": {
        "colab": {
          "base_uri": "https://localhost:8080/"
        },
        "id": "7Mgy2sV0ukYf",
        "outputId": "8b13ff0a-b4d7-49e5-b107-9aabe5c57891"
      },
      "execution_count": null,
      "outputs": [
        {
          "output_type": "stream",
          "name": "stdout",
          "text": [
            "INPUT a=4\n",
            "INPUT b=8\n",
            "12\n",
            "-4\n",
            "32\n",
            "0.5\n",
            "4\n"
          ]
        }
      ]
    },
    {
      "cell_type": "code",
      "source": [
        "import numpy as np\n",
        "print(np.__version__)"
      ],
      "metadata": {
        "colab": {
          "base_uri": "https://localhost:8080/"
        },
        "id": "3kfJY_na4nS5",
        "outputId": "0f07c076-819a-4ca1-a5c5-96c3867be4be"
      },
      "execution_count": null,
      "outputs": [
        {
          "output_type": "stream",
          "name": "stdout",
          "text": [
            "1.22.4\n"
          ]
        }
      ]
    },
    {
      "cell_type": "code",
      "source": [
        "#the command to import numpy library pacakeg.\n",
        "import numpy\n",
        "list=[10,20,30,40,50]\n",
        "arr=numpy.array(list)\n",
        "print(arr)"
      ],
      "metadata": {
        "colab": {
          "base_uri": "https://localhost:8080/"
        },
        "id": "MS2d60hC6Cka",
        "outputId": "71c85129-2c6f-491f-ef9c-063d70fd5356"
      },
      "execution_count": null,
      "outputs": [
        {
          "output_type": "stream",
          "name": "stdout",
          "text": [
            "[10 20 30 40 50]\n"
          ]
        }
      ]
    },
    {
      "cell_type": "code",
      "source": [
        "import numpy as np\n",
        "list=[10,20,30,40,50]\n",
        "arr=np.array(list)\n",
        "print(arr)"
      ],
      "metadata": {
        "colab": {
          "base_uri": "https://localhost:8080/"
        },
        "id": "_7biINob6_3v",
        "outputId": "0d80e8b9-8ed0-4ee2-deb5-a2c25b9ce701"
      },
      "execution_count": null,
      "outputs": [
        {
          "output_type": "stream",
          "name": "stdout",
          "text": [
            "[10 20 30 40 50]\n"
          ]
        }
      ]
    },
    {
      "cell_type": "code",
      "source": [
        "import numpy as np\n",
        "list=[10,20,30,40,50]\n",
        "arr=np.array(list)\n",
        "print('size:',arr.size)\n",
        "print('datatype:',arr.dtype)\n",
        "print('dimension:',arr.ndim)\n",
        "print('shape:',arr.shape)"
      ],
      "metadata": {
        "colab": {
          "base_uri": "https://localhost:8080/"
        },
        "id": "VDPIDO3i7Lce",
        "outputId": "1c94275e-0687-423e-88e1-2c9ba254a375"
      },
      "execution_count": null,
      "outputs": [
        {
          "output_type": "stream",
          "name": "stdout",
          "text": [
            "size: 5\n",
            "datatype: int64\n",
            "dimension: 1\n",
            "shape: (5,)\n"
          ]
        }
      ]
    },
    {
      "cell_type": "code",
      "source": [
        "import numpy as np\n",
        "list=[[10,20,30],[40,50,60]]\n",
        "arr=np.array(list)\n",
        "print(arr)"
      ],
      "metadata": {
        "colab": {
          "base_uri": "https://localhost:8080/"
        },
        "id": "1MorJfsR8jeT",
        "outputId": "683a29f7-7eec-4bc6-8032-102ff4e4a35c"
      },
      "execution_count": null,
      "outputs": [
        {
          "output_type": "stream",
          "name": "stdout",
          "text": [
            "[[10 20 30]\n",
            " [40 50 60]]\n"
          ]
        }
      ]
    },
    {
      "cell_type": "code",
      "source": [
        "import numpy as np\n",
        "list=[[10,20,30],[40,50,60]]\n",
        "arr=np.array(list)\n",
        "print(arr[1])"
      ],
      "metadata": {
        "colab": {
          "base_uri": "https://localhost:8080/"
        },
        "id": "FBusnl5M8jKB",
        "outputId": "c6e83d7e-41f9-47ff-c8dd-5a3d8e5d2f92"
      },
      "execution_count": null,
      "outputs": [
        {
          "output_type": "stream",
          "name": "stdout",
          "text": [
            "[40 50 60]\n"
          ]
        }
      ]
    },
    {
      "cell_type": "code",
      "source": [
        "import numpy as np\n",
        "list=[[10,20,30],[40,50,60]]\n",
        "arr=np.array(list)\n",
        "print(arr[1][1])"
      ],
      "metadata": {
        "colab": {
          "base_uri": "https://localhost:8080/"
        },
        "id": "QkNGAlWt83hl",
        "outputId": "a86dcd08-96c9-45f7-86f3-574be5d3fe28"
      },
      "execution_count": null,
      "outputs": [
        {
          "output_type": "stream",
          "name": "stdout",
          "text": [
            "50\n"
          ]
        }
      ]
    },
    {
      "cell_type": "code",
      "source": [
        "import numpy as np\n",
        "three_dimensional_list=[[[1,2,3],[4,5,6],[7,8,9]]]\n",
        "three_dimensional_arr=np.array(three_dimensional_list)\n",
        "print(\"3d array is:\",three_dimensional_arr)"
      ],
      "metadata": {
        "colab": {
          "base_uri": "https://localhost:8080/"
        },
        "id": "56w6_YwP-Voq",
        "outputId": "c83e1b7d-2c69-4020-8962-ad3b67569d18"
      },
      "execution_count": null,
      "outputs": [
        {
          "output_type": "stream",
          "name": "stdout",
          "text": [
            "3d array is: [[[1 2 3]\n",
            "  [4 5 6]\n",
            "  [7 8 9]]]\n"
          ]
        }
      ]
    },
    {
      "cell_type": "code",
      "source": [
        "import numpy as np \n",
        "list=[10,20,30,40,50,60]\n",
        "arr=np.array(list)\n",
        "print('element')\n",
        "for ele in arr:\n",
        "     print(ele)"
      ],
      "metadata": {
        "colab": {
          "base_uri": "https://localhost:8080/"
        },
        "id": "iTSGm2y4_gzm",
        "outputId": "64bf25b5-ed1b-4ddf-c1f5-ca8e5e66c2dc"
      },
      "execution_count": null,
      "outputs": [
        {
          "output_type": "stream",
          "name": "stdout",
          "text": [
            "element\n",
            "10\n",
            "20\n",
            "30\n",
            "40\n",
            "50\n",
            "60\n"
          ]
        }
      ]
    },
    {
      "cell_type": "code",
      "source": [
        "import numpy as np\n",
        "three_dimensional_list=[[[1,2,3],[4,5,6],[7,8,9]]]\n",
        "three_dimensional_arr=np.array(three_dimensional_list)\n",
        "print(\"3d array is:\",three_dimensional_arr)"
      ],
      "metadata": {
        "colab": {
          "base_uri": "https://localhost:8080/"
        },
        "id": "TIEWTWX8Atdi",
        "outputId": "10234de0-27ba-47db-ed8a-c33e0ef5cdf7"
      },
      "execution_count": null,
      "outputs": [
        {
          "output_type": "stream",
          "name": "stdout",
          "text": [
            "3d array is: [[[1 2 3]\n",
            "  [4 5 6]\n",
            "  [7 8 9]]]\n"
          ]
        }
      ]
    },
    {
      "cell_type": "code",
      "source": [
        "import numpy as np\n",
        "ndArray=np.array([1,2,3,4],ndmin=6)\n",
        "print(ndArray)\n",
        "print('dimensions of array:',ndArray.ndim)"
      ],
      "metadata": {
        "id": "N0anZq4JBHsg",
        "outputId": "555ebb24-8ad4-4f21-e289-9622a7f75aca",
        "colab": {
          "base_uri": "https://localhost:8080/"
        }
      },
      "execution_count": null,
      "outputs": [
        {
          "output_type": "stream",
          "name": "stdout",
          "text": [
            "[[[[[[1 2 3 4]]]]]]\n",
            "dimensions of array: 6\n"
          ]
        }
      ]
    },
    {
      "cell_type": "code",
      "source": [
        "import numpy as np\n",
        "list=[[10,20,30],[40,50,60]]\n",
        "arr=np.array(list)\n",
        "print('Element')\n",
        "for ele in arr:\n",
        "   print(ele) "
      ],
      "metadata": {
        "colab": {
          "base_uri": "https://localhost:8080/"
        },
        "id": "kZjKSvTRXP_V",
        "outputId": "150377c7-9bae-4340-8fc2-c3f5d87032bf"
      },
      "execution_count": 2,
      "outputs": [
        {
          "output_type": "stream",
          "name": "stdout",
          "text": [
            "Element\n",
            "[10 20 30]\n",
            "[40 50 60]\n"
          ]
        }
      ]
    },
    {
      "cell_type": "code",
      "source": [
        "import numpy as np\n",
        "list=[[10,20,30],[40,50,60],[70,80,90]]\n",
        "arr=np.array(list)\n",
        "print('Element')\n",
        "for ele in arr:\n",
        "   print(ele)"
      ],
      "metadata": {
        "colab": {
          "base_uri": "https://localhost:8080/"
        },
        "id": "z-74m1qcYVn6",
        "outputId": "0312e5fe-88bb-4bbc-9d21-31e54c58c10c"
      },
      "execution_count": 3,
      "outputs": [
        {
          "output_type": "stream",
          "name": "stdout",
          "text": [
            "Element\n",
            "[10 20 30]\n",
            "[40 50 60]\n",
            "[70 80 90]\n"
          ]
        }
      ]
    },
    {
      "cell_type": "code",
      "source": [
        "print(\"%10.3e\"% (356.08977))"
      ],
      "metadata": {
        "colab": {
          "base_uri": "https://localhost:8080/"
        },
        "id": "Gfz2UJE5ZIGC",
        "outputId": "1af6c5df-62b9-4cae-a18b-86ae99379ad3"
      },
      "execution_count": 4,
      "outputs": [
        {
          "output_type": "stream",
          "name": "stdout",
          "text": [
            " 3.561e+02\n"
          ]
        }
      ]
    },
    {
      "cell_type": "code",
      "source": [
        "print(\"%10.3E\"% (356.08977))"
      ],
      "metadata": {
        "colab": {
          "base_uri": "https://localhost:8080/"
        },
        "id": "qQ6Hc4bFZlnX",
        "outputId": "8dab098b-76f2-4450-f8ae-6ae809da5d6d"
      },
      "execution_count": 5,
      "outputs": [
        {
          "output_type": "stream",
          "name": "stdout",
          "text": [
            " 3.561E+02\n"
          ]
        }
      ]
    },
    {
      "cell_type": "code",
      "source": [
        "import numpy\n",
        "n = int (input('Enter Size:'))\n",
        "arr = numpy.ndarray(shape=(n),dtype=int)\n",
        "print('Enter %d element :'%n)\n",
        "for i in range(n):\n",
        "    arr[i]=int(input())\n",
        "    print('Array Elements :', arr)"
      ],
      "metadata": {
        "colab": {
          "base_uri": "https://localhost:8080/"
        },
        "id": "9tliSFaxZsNP",
        "outputId": "e0fdc3b3-1c51-4caa-89fd-15674bf902c8"
      },
      "execution_count": 8,
      "outputs": [
        {
          "output_type": "stream",
          "name": "stdout",
          "text": [
            "Enter Size:2\n",
            "Enter 2 element :\n",
            "11\n",
            "Array Elements : [11  0]\n",
            "22\n",
            "Array Elements : [11 22]\n"
          ]
        }
      ]
    },
    {
      "cell_type": "code",
      "source": [
        "import numpy\n",
        "n = int (input('Enter Size:'))\n",
        "arr = numpy.ndarray(shape=(n),dtype=int)\n",
        "print('Enter %d element :'%n)\n",
        "sum=0\n",
        "for i in range(n):\n",
        "    arr[i]=int(input())\n",
        "    sum=sum+arr[i]\n",
        "    print('Array Elements :', arr)\n",
        "    print(sum)"
      ],
      "metadata": {
        "colab": {
          "base_uri": "https://localhost:8080/"
        },
        "id": "KTr5AbWMaiMi",
        "outputId": "b73551f8-6840-423f-bf38-9479abe2ee4f"
      },
      "execution_count": 11,
      "outputs": [
        {
          "output_type": "stream",
          "name": "stdout",
          "text": [
            "Enter Size:2\n",
            "Enter 2 element :\n",
            "11\n",
            "Array Elements : [11 22]\n",
            "11\n",
            "22\n",
            "Array Elements : [11 22]\n",
            "33\n"
          ]
        }
      ]
    },
    {
      "cell_type": "code",
      "source": [
        "import numpy\n",
        "m = int (input('Enter Row Size:'))\n",
        "n = int (input('Enter Column Size:'))\n",
        "arr = numpy.ndarray(shape=(m,n),dtype=int)\n",
        "print('Size :', arr.size)\n",
        "print('Shape :', arr.shape)\n",
        "print('Dimension :', arr.ndim)"
      ],
      "metadata": {
        "colab": {
          "base_uri": "https://localhost:8080/"
        },
        "id": "JAaxhSHzaQc0",
        "outputId": "6a8e0d43-99ab-4896-91ff-c2322d20fd7e"
      },
      "execution_count": 9,
      "outputs": [
        {
          "output_type": "stream",
          "name": "stdout",
          "text": [
            "Enter Row Size:2\n",
            "Enter Column Size:3\n",
            "Size : 6\n",
            "Shape : (2, 3)\n",
            "Dimension : 2\n"
          ]
        }
      ]
    },
    {
      "cell_type": "code",
      "source": [
        "import numpy\n",
        "n = int (input('Enter Size:'))\n",
        "arr = numpy.ndarray(shape=(n),dtype=int)\n",
        "print('Enter %d element :'%n)\n",
        "def oddcount(a,o):\n",
        "  if a%2!=0:\n",
        "    o+=1\n",
        "  return o\n",
        "def evencount(a,e):\n",
        "  if a%2==0:\n",
        "    e+=1\n",
        "  return e\n",
        "o=0\n",
        "e=0\n",
        "for i in range(n):\n",
        "  arr[i]=int(input())\n",
        "  o=oddcount(arr[i],o)\n",
        "  e=evencount(arr[i],e)\n",
        "print('Array Elements :', arr)\n",
        "print(o)\n",
        "print(e)"
      ],
      "metadata": {
        "colab": {
          "base_uri": "https://localhost:8080/"
        },
        "id": "fDQFtHS1aahW",
        "outputId": "c01f9323-677d-43ac-9904-df023d44b082"
      },
      "execution_count": 13,
      "outputs": [
        {
          "output_type": "stream",
          "name": "stdout",
          "text": [
            "Enter Size:4\n",
            "Enter 4 element :\n",
            "12\n",
            "23\n",
            "32\n",
            "1\n",
            "Array Elements : [12 23 32  1]\n",
            "2\n",
            "2\n"
          ]
        }
      ]
    },
    {
      "cell_type": "code",
      "source": [
        "import numpy as np\n",
        "list=[[10,20,30],[40,50,60],[70,80,90]]\n",
        "arr=np.array(list)\n",
        "print(arr)\n",
        "# No Row and Column Size.\n",
        "print('Slicing...... .....')\n",
        "res=arr[:,:]\n",
        "print(res)"
      ],
      "metadata": {
        "colab": {
          "base_uri": "https://localhost:8080/"
        },
        "id": "wFyLMyEXeUqp",
        "outputId": "fbf265fb-6d14-4fb2-fbb2-9da7a1f0d29e"
      },
      "execution_count": 23,
      "outputs": [
        {
          "output_type": "stream",
          "name": "stdout",
          "text": [
            "[[10 20 30]\n",
            " [40 50 60]\n",
            " [70 80 90]]\n",
            "Slicing...... .....\n",
            "[[10 20 30]\n",
            " [40 50 60]\n",
            " [70 80 90]]\n"
          ]
        }
      ]
    },
    {
      "cell_type": "code",
      "source": [
        "import numpy as np\n",
        "list=[[10,20,30],[40,50,60],[70,80,90]]\n",
        "arr=np.array(list)\n",
        "print(arr)\n",
        "# No Row and Column Size.\n",
        "print('Slicing......')\n",
        "res=arr[:,:]\n",
        "print(res)\n",
        "print('Slicing......')\n",
        "res=arr[0:3,0:3]\n",
        "print(res)\n"
      ],
      "metadata": {
        "colab": {
          "base_uri": "https://localhost:8080/"
        },
        "id": "Be2pzZXffcbV",
        "outputId": "8bea3171-7ae6-40b3-b68d-b325f475c39b"
      },
      "execution_count": 24,
      "outputs": [
        {
          "output_type": "stream",
          "name": "stdout",
          "text": [
            "[[10 20 30]\n",
            " [40 50 60]\n",
            " [70 80 90]]\n",
            "Slicing......\n",
            "[[10 20 30]\n",
            " [40 50 60]\n",
            " [70 80 90]]\n",
            "Slicing......\n",
            "[[10 20]\n",
            " [40 50]\n",
            " [70 80]]\n"
          ]
        }
      ]
    },
    {
      "cell_type": "code",
      "source": [
        "import numpy as np\n",
        "list=[[10,20,30],[40,50,60],[70,80,90]]\n",
        "arr=np.array(list)\n",
        "print(arr)\n",
        "# No Row and Column Size.\n",
        "print('Slicing......')\n",
        "res=arr[:,:]\n",
        "print(res)\n",
        "print('Slicing......')\n",
        "res=arr[1:3,1:3]\n",
        "print(res)"
      ],
      "metadata": {
        "colab": {
          "base_uri": "https://localhost:8080/"
        },
        "id": "nmtE5fgYh5P_",
        "outputId": "19fbb14e-aae4-49cc-edfd-0c39f2e12a1c"
      },
      "execution_count": 25,
      "outputs": [
        {
          "output_type": "stream",
          "name": "stdout",
          "text": [
            "[[10 20 30]\n",
            " [40 50 60]\n",
            " [70 80 90]]\n",
            "Slicing......\n",
            "[[10 20 30]\n",
            " [40 50 60]\n",
            " [70 80 90]]\n",
            "Slicing......\n",
            "[[50 60]\n",
            " [80 90]]\n"
          ]
        }
      ]
    },
    {
      "cell_type": "code",
      "source": [
        "str1 = \"HELLOW SWARNA\" \n",
        "slic = slice(0,10,5)\n",
        "slic2 = slice(-1,0,-5)  \n",
        "str2 = str1[slic] \n",
        "str3 = str1[slic2] \n",
        "print(str2) \n",
        "print(str3)\n",
        "\n"
      ],
      "metadata": {
        "colab": {
          "base_uri": "https://localhost:8080/"
        },
        "id": "txz-ReaCihZ1",
        "outputId": "2f7e70a1-eac5-47b9-9fd2-d9d2c02e0b5c"
      },
      "execution_count": 29,
      "outputs": [
        {
          "output_type": "stream",
          "name": "stdout",
          "text": [
            "HW\n",
            "ASL\n"
          ]
        }
      ]
    },
    {
      "cell_type": "code",
      "source": [
        "x = \"swarna at work\"\n",
        "print(x[0:6])"
      ],
      "metadata": {
        "colab": {
          "base_uri": "https://localhost:8080/"
        },
        "id": "pucfauERjpzq",
        "outputId": "f556c75e-850e-49ff-838f-cbd6a4e604f8"
      },
      "execution_count": 30,
      "outputs": [
        {
          "output_type": "stream",
          "name": "stdout",
          "text": [
            "swarna\n"
          ]
        }
      ]
    },
    {
      "cell_type": "code",
      "source": [
        "str='abit is an enginnering college'\n",
        "print(str[0:27:5])"
      ],
      "metadata": {
        "colab": {
          "base_uri": "https://localhost:8080/"
        },
        "id": "_P76Jd0hkYOV",
        "outputId": "18cc5ba9-bb51-431d-ebe7-42557cccaf2f"
      },
      "execution_count": 32,
      "outputs": [
        {
          "output_type": "stream",
          "name": "stdout",
          "text": [
            "ai nnl\n"
          ]
        }
      ]
    },
    {
      "cell_type": "code",
      "source": [
        "str='abit is an enginnering college'\n",
        "print(str[0:27:2])\n",
        "str1=slice(1,27,3)\n",
        "str2=str[str1]\n",
        "print(str2)"
      ],
      "metadata": {
        "colab": {
          "base_uri": "https://localhost:8080/"
        },
        "id": "ejQFfLfOk1yF",
        "outputId": "2b593969-f9cd-48a2-babd-bcdc250c609e"
      },
      "execution_count": 34,
      "outputs": [
        {
          "output_type": "stream",
          "name": "stdout",
          "text": [
            "ai sa ninrn ol\n",
            "b   gni l\n"
          ]
        }
      ]
    },
    {
      "cell_type": "code",
      "source": [
        "import pandas as pd\n",
        "import numpy as np\n",
        "info = np.array(['S','W','A','R','N','A'])\n",
        "a = pd.Series(info)\n",
        "print(a)"
      ],
      "metadata": {
        "colab": {
          "base_uri": "https://localhost:8080/"
        },
        "id": "jS2QQ2Kuljr5",
        "outputId": "ba140a86-d901-482a-95a4-74a4f7935fe8"
      },
      "execution_count": 36,
      "outputs": [
        {
          "output_type": "stream",
          "name": "stdout",
          "text": [
            "0    S\n",
            "1    W\n",
            "2    A\n",
            "3    R\n",
            "4    N\n",
            "5    A\n",
            "dtype: object\n"
          ]
        }
      ]
    },
    {
      "cell_type": "code",
      "source": [
        "import pandas as pd\n",
        "info =['REG','NAME','CLASS','BRANCH','DEPT','ABIT']\n",
        "df=pd.DataFrame(info)\n",
        "print(df)\n",
        "print('swarna')\n",
        "a = pd.Series(info)\n",
        "print(a)"
      ],
      "metadata": {
        "colab": {
          "base_uri": "https://localhost:8080/"
        },
        "id": "vbygVnb0nWhu",
        "outputId": "ed3d5a48-7a5b-4036-9870-2b063daeea63"
      },
      "execution_count": 37,
      "outputs": [
        {
          "output_type": "stream",
          "name": "stdout",
          "text": [
            "        0\n",
            "0     REG\n",
            "1    NAME\n",
            "2   CLASS\n",
            "3  BRANCH\n",
            "4    DEPT\n",
            "5    ABIT\n",
            "swarna\n",
            "0       REG\n",
            "1      NAME\n",
            "2     CLASS\n",
            "3    BRANCH\n",
            "4      DEPT\n",
            "5      ABIT\n",
            "dtype: object\n"
          ]
        }
      ]
    }
  ],
  "metadata": {
    "colab": {
      "provenance": [],
      "authorship_tag": "ABX9TyPh93/nFKy3f3kOm4RYnC2G",
      "include_colab_link": true
    },
    "kernelspec": {
      "display_name": "Python 3",
      "name": "python3"
    },
    "language_info": {
      "name": "python"
    }
  },
  "nbformat": 4,
  "nbformat_minor": 0
}