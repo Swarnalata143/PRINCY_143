{
  "nbformat": 4,
  "nbformat_minor": 0,
  "metadata": {
    "colab": {
      "provenance": [],
      "authorship_tag": "ABX9TyPd1LdYh7CgUgSql2cbtaNJ",
      "include_colab_link": true
    },
    "kernelspec": {
      "name": "python3",
      "display_name": "Python 3"
    },
    "language_info": {
      "name": "python"
    }
  },
  "cells": [
    {
      "cell_type": "markdown",
      "metadata": {
        "id": "view-in-github",
        "colab_type": "text"
      },
      "source": [
        "<a href=\"https://colab.research.google.com/github/Swarnalata143/PRINCY_143/blob/main/Untitled0.ipynb\" target=\"_parent\"><img src=\"https://colab.research.google.com/assets/colab-badge.svg\" alt=\"Open In Colab\"/></a>"
      ]
    },
    {
      "cell_type": "code",
      "execution_count": null,
      "metadata": {
        "colab": {
          "base_uri": "https://localhost:8080/"
        },
        "id": "797dYWD1DqQ1",
        "outputId": "c15376f6-378e-40d1-8b65-43d12e622413"
      },
      "outputs": [
        {
          "output_type": "stream",
          "name": "stdout",
          "text": [
            "Enter the value:23\n",
            "The value in Fahrenheit 73.4\n"
          ]
        }
      ],
      "source": [
        "celsius=float(input(\"Enter the value:\"))\n",
        "Fahrenheit= (celsius *1.8)+32\n",
        "print(\"The value in Fahrenheit\",Fahrenheit)\n",
        "Fahrenheit_f=float(input(\"Enter the value:\"))\n",
        "celsius_c=int((Fahrenheit_f-32)/1.8)\n",
        "print(\"The value in celsius\",celsius_c)"
      ]
    }
  ]
}